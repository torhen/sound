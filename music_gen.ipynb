{
 "cells": [
  {
   "cell_type": "code",
   "execution_count": 1,
   "metadata": {},
   "outputs": [
    {
     "name": "stdout",
     "output_type": "stream",
     "text": [
      "\n",
      "WxPython is not found for the current python version.\n",
      "Pyo will use a minimal GUI toolkit written with Tkinter (if available).\n",
      "This toolkit has limited functionnalities and is no more\n",
      "maintained or updated. If you want to use all of pyo's\n",
      "GUI features, you should install WxPython, available here:\n",
      "http://www.wxpython.org/\n",
      "\n"
     ]
    }
   ],
   "source": [
    "import pyo"
   ]
  },
  {
   "cell_type": "code",
   "execution_count": 2,
   "metadata": {},
   "outputs": [],
   "source": [
    "def note2midi(s):\n",
    "    # split in note, modi(fier), oct\n",
    "    note = s[0].lower()\n",
    "    if len(s) > 2:\n",
    "        modi = s[1]\n",
    "    else:\n",
    "        modi = ''\n",
    "    octa = int(s[-1])\n",
    "    #print(f'{s} = [{note}, {modi}, {octa}]')\n",
    "    \n",
    "    # get midi note\n",
    "    dic = {'c':60, 'd':62, 'e': 64, 'f': 65, 'g':67, 'a':69, 'b':71, 'h':71}\n",
    "    midi = dic[note]\n",
    "    \n",
    "    # modify with # or b\n",
    "    if modi == '#': midi += 1\n",
    "    if modi == 'b': midi -= 1\n",
    "        \n",
    "    # octave\n",
    "    octa = int(octa) - 4 # 4 = defined midi note\n",
    "    midi = midi + octa * 12\n",
    "    return midi"
   ]
  },
  {
   "cell_type": "code",
   "execution_count": 3,
   "metadata": {},
   "outputs": [],
   "source": [
    "def str2midi(melo):\n",
    "    return [note2midi(s) for s in melo.split()]"
   ]
  },
  {
   "cell_type": "code",
   "execution_count": 4,
   "metadata": {},
   "outputs": [],
   "source": [
    "def gen_pads(freq, pattern, mul):\n",
    "    seq = pyo.Seq(seq=pattern, poly=12, onlyonce=True).play()\n",
    "    env = pyo.WinTable(type=0)\n",
    "    \n",
    "    # take duration from pattern\n",
    "    amp = pyo.TrigEnv(seq, table=env, mul=mul, dur=pattern)\n",
    "    \n",
    "    t = pyo.SquareTable()\n",
    "    return pyo.Osc(table=t, freq=freq, mul=amp)\n"
   ]
  },
  {
   "cell_type": "code",
   "execution_count": 7,
   "metadata": {},
   "outputs": [],
   "source": [
    "server = pyo.Server()\n",
    "server.boot()\n",
    "server.start()\n",
    "\n",
    "def play(tones, pattern, mul, func):\n",
    "    lMidi = str2midi(tones)\n",
    "    freq = pyo.midiToHz(lMidi)\n",
    "    return func(freq=freq, pattern=pattern, mul=mul).out(inc=0)\n",
    "\n",
    "a = play('c5 b4', [2,2], 0.1, gen_pads)\n",
    "b = play('a4 g4', [2,2], 0.1, gen_pads)\n",
    "c = play('e4 e4', [2,2], 0.1, gen_pads)"
   ]
  },
  {
   "cell_type": "code",
   "execution_count": 8,
   "metadata": {},
   "outputs": [],
   "source": [
    "server.stop()"
   ]
  },
  {
   "cell_type": "code",
   "execution_count": null,
   "metadata": {},
   "outputs": [],
   "source": []
  },
  {
   "cell_type": "code",
   "execution_count": null,
   "metadata": {},
   "outputs": [],
   "source": []
  }
 ],
 "metadata": {
  "kernelspec": {
   "display_name": "Python 3",
   "language": "python",
   "name": "python3"
  },
  "language_info": {
   "codemirror_mode": {
    "name": "ipython",
    "version": 3
   },
   "file_extension": ".py",
   "mimetype": "text/x-python",
   "name": "python",
   "nbconvert_exporter": "python",
   "pygments_lexer": "ipython3",
   "version": "3.6.10"
  }
 },
 "nbformat": 4,
 "nbformat_minor": 4
}
